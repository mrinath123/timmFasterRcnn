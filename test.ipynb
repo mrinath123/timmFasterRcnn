{
 "cells": [
  {
   "cell_type": "code",
   "execution_count": 4,
   "metadata": {},
   "outputs": [],
   "source": [
    "from model_config import BackBoneFeats\n",
    "from Add_FPN import Effnet_BackboneWithFPN\n",
    "import torch"
   ]
  },
  {
   "cell_type": "code",
   "execution_count": 2,
   "metadata": {},
   "outputs": [],
   "source": [
    "bf = BackBoneFeats(\"efficientnet_b3\")"
   ]
  },
  {
   "cell_type": "code",
   "execution_count": 3,
   "metadata": {},
   "outputs": [],
   "source": [
    "custom_fpn = Effnet_BackboneWithFPN(bf.backbone, bf.return_layers, bf.feat_size, bf.out_channels)"
   ]
  },
  {
   "cell_type": "code",
   "execution_count": 5,
   "metadata": {},
   "outputs": [
    {
     "name": "stdout",
     "output_type": "stream",
     "text": [
      "[('0', torch.Size([1, 384, 56, 56])), ('1', torch.Size([1, 384, 28, 28])), ('2', torch.Size([1, 384, 14, 14])), ('3', torch.Size([1, 384, 7, 7])), ('pool', torch.Size([1, 384, 4, 4]))]\n"
     ]
    }
   ],
   "source": [
    "x = torch.rand(1,3,224,224)\n",
    "# compute the output\n",
    "output = custom_fpn(x)\n",
    "print([(k, v.shape) for k, v in output.items()])"
   ]
  },
  {
   "cell_type": "code",
   "execution_count": null,
   "metadata": {},
   "outputs": [],
   "source": []
  }
 ],
 "metadata": {
  "interpreter": {
   "hash": "17441fd7f147fdc76508b55c379adb0f041be2a7cdc0ab49fe4daaa32944be0d"
  },
  "kernelspec": {
   "display_name": "Python 3.8.5 64-bit ('deeplearning': conda)",
   "language": "python",
   "name": "python3"
  },
  "language_info": {
   "codemirror_mode": {
    "name": "ipython",
    "version": 3
   },
   "file_extension": ".py",
   "mimetype": "text/x-python",
   "name": "python",
   "nbconvert_exporter": "python",
   "pygments_lexer": "ipython3",
   "version": "3.8.5"
  },
  "orig_nbformat": 4
 },
 "nbformat": 4,
 "nbformat_minor": 2
}
