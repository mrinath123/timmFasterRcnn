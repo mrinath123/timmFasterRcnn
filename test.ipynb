{
 "cells": [
  {
   "cell_type": "code",
   "execution_count": 1,
   "metadata": {},
   "outputs": [],
   "source": [
    "from model_config import BackBoneFeats\n",
    "from Add_FPN import Effnet_BackboneWithFPN , Densenet_BackboneWithFPN\n",
    "import torch"
   ]
  },
  {
   "cell_type": "code",
   "execution_count": 2,
   "metadata": {},
   "outputs": [
    {
     "name": "stderr",
     "output_type": "stream",
     "text": [
      "Downloading: \"https://github.com/rwightman/pytorch-image-models/releases/download/v0.1-weights/efficientnet_b3_ra2-cf984f9c.pth\" to C:\\Users\\Admin-PC/.cache\\torch\\hub\\checkpoints\\efficientnet_b3_ra2-cf984f9c.pth\n"
     ]
    }
   ],
   "source": [
    "bf1 = BackBoneFeats(\"efficientnet_b3\",pretrained=True)"
   ]
  },
  {
   "cell_type": "code",
   "execution_count": 4,
   "metadata": {},
   "outputs": [],
   "source": [
    "bf2 = BackBoneFeats(\"densenet121\",pretrained = False)"
   ]
  },
  {
   "cell_type": "code",
   "execution_count": 5,
   "metadata": {},
   "outputs": [],
   "source": [
    "custom_fpn1 = Effnet_BackboneWithFPN(bf1.backbone, bf1.return_layers, bf1.feat_size, bf1.out_channels)\n",
    "custom_fpn2 = Densenet_BackboneWithFPN(bf2.backbone, bf2.return_layers, bf2.feat_size, bf2.out_channels)"
   ]
  },
  {
   "cell_type": "code",
   "execution_count": 6,
   "metadata": {},
   "outputs": [],
   "source": [
    "x = torch.rand(1,3,224,224)"
   ]
  },
  {
   "cell_type": "code",
   "execution_count": 7,
   "metadata": {},
   "outputs": [
    {
     "name": "stdout",
     "output_type": "stream",
     "text": [
      "[('0', torch.Size([1, 384, 56, 56])), ('1', torch.Size([1, 384, 28, 28])), ('2', torch.Size([1, 384, 14, 14])), ('3', torch.Size([1, 384, 7, 7])), ('pool', torch.Size([1, 384, 4, 4]))]\n"
     ]
    }
   ],
   "source": [
    "# compute the output\n",
    "output1 = custom_fpn1(x)\n",
    "print([(k, v.shape) for k, v in output1.items()])"
   ]
  },
  {
   "cell_type": "code",
   "execution_count": 8,
   "metadata": {},
   "outputs": [
    {
     "name": "stdout",
     "output_type": "stream",
     "text": [
      "[('0', torch.Size([1, 1024, 56, 56])), ('1', torch.Size([1, 1024, 28, 28])), ('2', torch.Size([1, 1024, 14, 14])), ('3', torch.Size([1, 1024, 7, 7])), ('pool', torch.Size([1, 1024, 4, 4]))]\n"
     ]
    }
   ],
   "source": [
    "# compute the output\n",
    "output2 = custom_fpn2(x)\n",
    "print([(k, v.shape) for k, v in output2.items()])"
   ]
  }
 ],
 "metadata": {
  "interpreter": {
   "hash": "17441fd7f147fdc76508b55c379adb0f041be2a7cdc0ab49fe4daaa32944be0d"
  },
  "kernelspec": {
   "display_name": "Python 3.8.5 64-bit ('deeplearning': conda)",
   "language": "python",
   "name": "python3"
  },
  "language_info": {
   "codemirror_mode": {
    "name": "ipython",
    "version": 3
   },
   "file_extension": ".py",
   "mimetype": "text/x-python",
   "name": "python",
   "nbconvert_exporter": "python",
   "pygments_lexer": "ipython3",
   "version": "3.8.5"
  },
  "orig_nbformat": 4
 },
 "nbformat": 4,
 "nbformat_minor": 2
}
